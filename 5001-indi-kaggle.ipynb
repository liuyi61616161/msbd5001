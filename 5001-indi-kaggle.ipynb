{
 "cells": [
  {
   "cell_type": "code",
   "execution_count": 1,
   "metadata": {},
   "outputs": [],
   "source": [
    "import warnings\n",
    "warnings.filterwarnings(\"ignore\")\n",
    "\n",
    "import pandas as pd\n",
    "import numpy as np\n",
    "import matplotlib.pyplot as plt\n",
    "import time"
   ]
  },
  {
   "cell_type": "code",
   "execution_count": 2,
   "metadata": {},
   "outputs": [],
   "source": [
    "from xgboost.sklearn import XGBClassifier\n",
    "from imblearn.over_sampling import SMOTE\n",
    "from sklearn.preprocessing import StandardScaler,MinMaxScaler\n",
    "from sklearn.metrics import classification_report,roc_auc_score,accuracy_score"
   ]
  },
  {
   "cell_type": "markdown",
   "metadata": {},
   "source": [
    "### load data"
   ]
  },
  {
   "cell_type": "code",
   "execution_count": 28,
   "metadata": {},
   "outputs": [
    {
     "data": {
      "text/html": [
       "<div>\n",
       "<style scoped>\n",
       "    .dataframe tbody tr th:only-of-type {\n",
       "        vertical-align: middle;\n",
       "    }\n",
       "\n",
       "    .dataframe tbody tr th {\n",
       "        vertical-align: top;\n",
       "    }\n",
       "\n",
       "    .dataframe thead th {\n",
       "        text-align: right;\n",
       "    }\n",
       "</style>\n",
       "<table border=\"1\" class=\"dataframe\">\n",
       "  <thead>\n",
       "    <tr style=\"text-align: right;\">\n",
       "      <th></th>\n",
       "      <th>id</th>\n",
       "      <th>MO HLADR+ MFI (cells/ul)</th>\n",
       "      <th>Neu CD64+MFI (cells/ul)</th>\n",
       "      <th>CD3+T (cells/ul)</th>\n",
       "      <th>CD8+T (cells/ul)</th>\n",
       "      <th>CD4+T (cells/ul)</th>\n",
       "      <th>NK (cells/ul)</th>\n",
       "      <th>CD19+ (cells/ul)</th>\n",
       "      <th>CD45+ (cells/ul)</th>\n",
       "      <th>Age</th>\n",
       "      <th>Sex 0M1F</th>\n",
       "      <th>Mono CD64+MFI (cells/ul)</th>\n",
       "      <th>label</th>\n",
       "    </tr>\n",
       "  </thead>\n",
       "  <tbody>\n",
       "    <tr>\n",
       "      <td>0</td>\n",
       "      <td>0</td>\n",
       "      <td>3556.0</td>\n",
       "      <td>2489.0</td>\n",
       "      <td>265.19</td>\n",
       "      <td>77.53</td>\n",
       "      <td>176.55</td>\n",
       "      <td>0.00</td>\n",
       "      <td>4.20</td>\n",
       "      <td>307.91</td>\n",
       "      <td>52</td>\n",
       "      <td>0</td>\n",
       "      <td>7515.0</td>\n",
       "      <td>1</td>\n",
       "    </tr>\n",
       "    <tr>\n",
       "      <td>1</td>\n",
       "      <td>1</td>\n",
       "      <td>1906.0</td>\n",
       "      <td>134.0</td>\n",
       "      <td>1442.61</td>\n",
       "      <td>551.90</td>\n",
       "      <td>876.07</td>\n",
       "      <td>112.10</td>\n",
       "      <td>168.15</td>\n",
       "      <td>1735.48</td>\n",
       "      <td>20</td>\n",
       "      <td>1</td>\n",
       "      <td>1756.0</td>\n",
       "      <td>0</td>\n",
       "    </tr>\n",
       "    <tr>\n",
       "      <td>2</td>\n",
       "      <td>2</td>\n",
       "      <td>1586.0</td>\n",
       "      <td>71.0</td>\n",
       "      <td>1332.74</td>\n",
       "      <td>684.20</td>\n",
       "      <td>655.26</td>\n",
       "      <td>244.95</td>\n",
       "      <td>216.52</td>\n",
       "      <td>1820.04</td>\n",
       "      <td>28</td>\n",
       "      <td>1</td>\n",
       "      <td>1311.0</td>\n",
       "      <td>0</td>\n",
       "    </tr>\n",
       "    <tr>\n",
       "      <td>3</td>\n",
       "      <td>3</td>\n",
       "      <td>683.0</td>\n",
       "      <td>94.0</td>\n",
       "      <td>419.23</td>\n",
       "      <td>255.80</td>\n",
       "      <td>162.17</td>\n",
       "      <td>72.05</td>\n",
       "      <td>44.68</td>\n",
       "      <td>538.22</td>\n",
       "      <td>55</td>\n",
       "      <td>1</td>\n",
       "      <td>1443.0</td>\n",
       "      <td>0</td>\n",
       "    </tr>\n",
       "    <tr>\n",
       "      <td>4</td>\n",
       "      <td>4</td>\n",
       "      <td>1032.0</td>\n",
       "      <td>71.0</td>\n",
       "      <td>1102.72</td>\n",
       "      <td>480.27</td>\n",
       "      <td>625.30</td>\n",
       "      <td>188.78</td>\n",
       "      <td>130.77</td>\n",
       "      <td>1427.97</td>\n",
       "      <td>28</td>\n",
       "      <td>1</td>\n",
       "      <td>1542.0</td>\n",
       "      <td>0</td>\n",
       "    </tr>\n",
       "  </tbody>\n",
       "</table>\n",
       "</div>"
      ],
      "text/plain": [
       "   id  MO HLADR+ MFI (cells/ul)  Neu CD64+MFI (cells/ul)  CD3+T (cells/ul)  \\\n",
       "0   0                    3556.0                   2489.0            265.19   \n",
       "1   1                    1906.0                    134.0           1442.61   \n",
       "2   2                    1586.0                     71.0           1332.74   \n",
       "3   3                     683.0                     94.0            419.23   \n",
       "4   4                    1032.0                     71.0           1102.72   \n",
       "\n",
       "   CD8+T (cells/ul)  CD4+T (cells/ul)  NK (cells/ul)  CD19+ (cells/ul)  \\\n",
       "0             77.53            176.55           0.00              4.20   \n",
       "1            551.90            876.07         112.10            168.15   \n",
       "2            684.20            655.26         244.95            216.52   \n",
       "3            255.80            162.17          72.05             44.68   \n",
       "4            480.27            625.30         188.78            130.77   \n",
       "\n",
       "   CD45+ (cells/ul)  Age  Sex 0M1F  Mono CD64+MFI (cells/ul)  label  \n",
       "0            307.91   52         0                    7515.0      1  \n",
       "1           1735.48   20         1                    1756.0      0  \n",
       "2           1820.04   28         1                    1311.0      0  \n",
       "3            538.22   55         1                    1443.0      0  \n",
       "4           1427.97   28         1                    1542.0      0  "
      ]
     },
     "execution_count": 28,
     "metadata": {},
     "output_type": "execute_result"
    }
   ],
   "source": [
    "train = pd.read_csv('train.csv')\n",
    "test = pd.read_csv('test.csv')\n",
    "train.head()"
   ]
  },
  {
   "cell_type": "code",
   "execution_count": 29,
   "metadata": {},
   "outputs": [
    {
     "data": {
      "text/plain": [
       "(87, 13)"
      ]
     },
     "execution_count": 29,
     "metadata": {},
     "output_type": "execute_result"
    }
   ],
   "source": [
    "train.shape"
   ]
  },
  {
   "cell_type": "code",
   "execution_count": 30,
   "metadata": {},
   "outputs": [
    {
     "data": {
      "text/html": [
       "<div>\n",
       "<style scoped>\n",
       "    .dataframe tbody tr th:only-of-type {\n",
       "        vertical-align: middle;\n",
       "    }\n",
       "\n",
       "    .dataframe tbody tr th {\n",
       "        vertical-align: top;\n",
       "    }\n",
       "\n",
       "    .dataframe thead th {\n",
       "        text-align: right;\n",
       "    }\n",
       "</style>\n",
       "<table border=\"1\" class=\"dataframe\">\n",
       "  <thead>\n",
       "    <tr style=\"text-align: right;\">\n",
       "      <th></th>\n",
       "      <th>id</th>\n",
       "      <th>MO HLADR+ MFI (cells/ul)</th>\n",
       "      <th>Neu CD64+MFI (cells/ul)</th>\n",
       "      <th>CD3+T (cells/ul)</th>\n",
       "      <th>CD8+T (cells/ul)</th>\n",
       "      <th>CD4+T (cells/ul)</th>\n",
       "      <th>NK (cells/ul)</th>\n",
       "      <th>CD19+ (cells/ul)</th>\n",
       "      <th>CD45+ (cells/ul)</th>\n",
       "      <th>Age</th>\n",
       "      <th>Sex 0M1F</th>\n",
       "      <th>Mono CD64+MFI (cells/ul)</th>\n",
       "      <th>label</th>\n",
       "    </tr>\n",
       "  </thead>\n",
       "  <tbody>\n",
       "    <tr>\n",
       "      <td>39</td>\n",
       "      <td>39</td>\n",
       "      <td>NaN</td>\n",
       "      <td>NaN</td>\n",
       "      <td>1336.54</td>\n",
       "      <td>739.71</td>\n",
       "      <td>550.3</td>\n",
       "      <td>68.46</td>\n",
       "      <td>192.07</td>\n",
       "      <td>1615.68</td>\n",
       "      <td>21</td>\n",
       "      <td>0</td>\n",
       "      <td>NaN</td>\n",
       "      <td>0</td>\n",
       "    </tr>\n",
       "    <tr>\n",
       "      <td>39</td>\n",
       "      <td>39</td>\n",
       "      <td>NaN</td>\n",
       "      <td>NaN</td>\n",
       "      <td>1336.54</td>\n",
       "      <td>739.71</td>\n",
       "      <td>550.3</td>\n",
       "      <td>68.46</td>\n",
       "      <td>192.07</td>\n",
       "      <td>1615.68</td>\n",
       "      <td>21</td>\n",
       "      <td>0</td>\n",
       "      <td>NaN</td>\n",
       "      <td>0</td>\n",
       "    </tr>\n",
       "    <tr>\n",
       "      <td>39</td>\n",
       "      <td>39</td>\n",
       "      <td>NaN</td>\n",
       "      <td>NaN</td>\n",
       "      <td>1336.54</td>\n",
       "      <td>739.71</td>\n",
       "      <td>550.3</td>\n",
       "      <td>68.46</td>\n",
       "      <td>192.07</td>\n",
       "      <td>1615.68</td>\n",
       "      <td>21</td>\n",
       "      <td>0</td>\n",
       "      <td>NaN</td>\n",
       "      <td>0</td>\n",
       "    </tr>\n",
       "  </tbody>\n",
       "</table>\n",
       "</div>"
      ],
      "text/plain": [
       "    id  MO HLADR+ MFI (cells/ul)  Neu CD64+MFI (cells/ul)  CD3+T (cells/ul)  \\\n",
       "39  39                       NaN                      NaN           1336.54   \n",
       "39  39                       NaN                      NaN           1336.54   \n",
       "39  39                       NaN                      NaN           1336.54   \n",
       "\n",
       "    CD8+T (cells/ul)  CD4+T (cells/ul)  NK (cells/ul)  CD19+ (cells/ul)  \\\n",
       "39            739.71             550.3          68.46            192.07   \n",
       "39            739.71             550.3          68.46            192.07   \n",
       "39            739.71             550.3          68.46            192.07   \n",
       "\n",
       "    CD45+ (cells/ul)  Age  Sex 0M1F  Mono CD64+MFI (cells/ul)  label  \n",
       "39           1615.68   21         0                       NaN      0  \n",
       "39           1615.68   21         0                       NaN      0  \n",
       "39           1615.68   21         0                       NaN      0  "
      ]
     },
     "execution_count": 30,
     "metadata": {},
     "output_type": "execute_result"
    }
   ],
   "source": [
    "train[train.isnull().values==True]"
   ]
  },
  {
   "cell_type": "code",
   "execution_count": 31,
   "metadata": {},
   "outputs": [
    {
     "data": {
      "text/plain": [
       "(86, 13)"
      ]
     },
     "execution_count": 31,
     "metadata": {},
     "output_type": "execute_result"
    }
   ],
   "source": [
    "train.dropna(axis=0, how='any', inplace=True)\n",
    "train.shape"
   ]
  },
  {
   "cell_type": "code",
   "execution_count": 32,
   "metadata": {},
   "outputs": [
    {
     "name": "stdout",
     "output_type": "stream",
     "text": [
      "(114, 12) 57\n"
     ]
    }
   ],
   "source": [
    "sm = SMOTE(random_state = 500)\n",
    "train,y = sm.fit_resample(train[[i for i in train.columns if i not in['id','label']]], train['label'])\n",
    "train['label'] = y\n",
    "print(train.shape,train['label'].sum())"
   ]
  },
  {
   "cell_type": "code",
   "execution_count": 33,
   "metadata": {},
   "outputs": [],
   "source": [
    "scaler = MinMaxScaler()\n",
    "columns = ['MO HLADR+ MFI (cells/ul)', 'Neu CD64+MFI (cells/ul)',\n",
    "       'CD3+T (cells/ul)', 'CD8+T (cells/ul)', 'CD4+T (cells/ul)',\n",
    "       'NK (cells/ul)', 'CD19+ (cells/ul)', 'CD45+ (cells/ul)','Age', 'Mono CD64+MFI (cells/ul)']\n",
    "scaler.fit(train)\n",
    "\n",
    "scaler.fit(train[columns])\n",
    "\n",
    "train[columns] = scaler.transform(train[columns])\n",
    "test[columns] = scaler.transform(test[columns])"
   ]
  },
  {
   "cell_type": "code",
   "execution_count": 34,
   "metadata": {},
   "outputs": [],
   "source": [
    "X_train,y_train = train[[i for i in train.columns if i not in['id','label']]],train['label']\n",
    "                        \n",
    "X_test = test[[i for i in train.columns if i not in['id','label']]]"
   ]
  },
  {
   "cell_type": "markdown",
   "metadata": {},
   "source": [
    "### Random Forest"
   ]
  },
  {
   "cell_type": "code",
   "execution_count": 43,
   "metadata": {},
   "outputs": [
    {
     "data": {
      "text/plain": [
       "RandomForestClassifier(min_samples_split=5, n_estimators=150)"
      ]
     },
     "execution_count": 43,
     "metadata": {},
     "output_type": "execute_result"
    }
   ],
   "source": [
    "from sklearn.ensemble import RandomForestClassifier\n",
    "rf = RandomForestClassifier(150,min_samples_split = 5)\n",
    "rf.fit(X_train,y_train)"
   ]
  },
  {
   "cell_type": "code",
   "execution_count": 45,
   "metadata": {},
   "outputs": [
    {
     "name": "stdout",
     "output_type": "stream",
     "text": [
      "              precision    recall  f1-score   support\n",
      "\n",
      "           0       0.98      1.00      0.99        57\n",
      "           1       1.00      0.98      0.99        57\n",
      "\n",
      "    accuracy                           0.99       114\n",
      "   macro avg       0.99      0.99      0.99       114\n",
      "weighted avg       0.99      0.99      0.99       114\n",
      "\n"
     ]
    }
   ],
   "source": [
    "threshold = 0.5\n",
    "\n",
    "predicted_proba = rf.predict_proba(X_train)\n",
    "\n",
    "y_pred = (predicted_proba [:,1] >= threshold).astype('int')\n",
    "\n",
    "print(classification_report(y_train, y_pred))"
   ]
  },
  {
   "cell_type": "code",
   "execution_count": 46,
   "metadata": {},
   "outputs": [],
   "source": [
    "predicted_proba = rf.predict_proba(X_test)\n",
    "\n",
    "prediction = (predicted_proba [:,1] >= threshold).astype('int')\n",
    "\n",
    "pd.DataFrame({\"id\":range(59),\"label\":prediction}).to_csv(\"submission.csv\",index=None)"
   ]
  },
  {
   "cell_type": "markdown",
   "metadata": {},
   "source": [
    "### Reference: \n",
    "https://github.com/shawinbetter/MSBD5001-Spring-2022-Individual-Project/blob/main/code.ipynb"
   ]
  }
 ],
 "metadata": {
  "kernelspec": {
   "display_name": "Python 3",
   "language": "python",
   "name": "python3"
  },
  "language_info": {
   "codemirror_mode": {
    "name": "ipython",
    "version": 3
   },
   "file_extension": ".py",
   "mimetype": "text/x-python",
   "name": "python",
   "nbconvert_exporter": "python",
   "pygments_lexer": "ipython3",
   "version": "3.7.4"
  }
 },
 "nbformat": 4,
 "nbformat_minor": 2
}
